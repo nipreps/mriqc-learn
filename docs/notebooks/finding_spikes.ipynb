{
 "cells": [
  {
   "cell_type": "code",
   "execution_count": null,
   "metadata": {},
   "outputs": [],
   "source": [
    "import nibabel, nipy, nilearn\n",
    "from nipy.labs.mask import compute_mask\n",
    "from nilearn.masking import compute_epi_mask\n",
    "from nilearn.image import mean_img, new_img_like\n",
    "import pylab as plt\n",
    "import seaborn as sns\n",
    "from nilearn.plotting import plot_epi, plot_anat, plot_roi\n",
    "import numpy as np\n",
    "%matplotlib inline"
   ]
  },
  {
   "cell_type": "code",
   "execution_count": null,
   "metadata": {
    "collapsed": true
   },
   "outputs": [],
   "source": [
    "compute_mask?"
   ]
  },
  {
   "cell_type": "code",
   "execution_count": null,
   "metadata": {},
   "outputs": [],
   "source": [
    "in_file = \"data/sub-ben01_task-unknown_bold.nii.gz\""
   ]
  },
  {
   "cell_type": "code",
   "execution_count": null,
   "metadata": {},
   "outputs": [],
   "source": [
    "in_4d_nii = nibabel.load(in_file)"
   ]
  },
  {
   "cell_type": "code",
   "execution_count": null,
   "metadata": {},
   "outputs": [],
   "source": [
    "mean_nii = mean_img(in_4d_nii)\n",
    "plot_anat(mean_nii)"
   ]
  },
  {
   "cell_type": "code",
   "execution_count": null,
   "metadata": {},
   "outputs": [],
   "source": [
    "#mask_nii = compute_epi_mask(in_4d_nii)\n",
    "\n",
    "mask_data = compute_mask(mean_nii.get_data())\n",
    "mask_nii = new_img_like(mean_nii, mask_data)\n",
    "\n",
    "plot_roi(mask_nii, mean_nii)"
   ]
  },
  {
   "cell_type": "code",
   "execution_count": null,
   "metadata": {},
   "outputs": [],
   "source": [
    "a = np.where(mask_nii.get_data() != 0)\n",
    "bbox = np.max(a[0]) - np.min(a[0]), np.max(a[1]) - np.min(a[1]), np.max(a[2]) - np.min(a[2])\n",
    "print(bbox)\n",
    "print(np.argmax(bbox))\n",
    "longest_axis = np.argmax(bbox)"
   ]
  },
  {
   "cell_type": "code",
   "execution_count": null,
   "metadata": {},
   "outputs": [],
   "source": [
    "from scipy import ndimage\n",
    "\n",
    "# Input here is a binarized and intersected mask data from previous section\n",
    "dil_mask = ndimage.binary_dilation(mask_nii.get_data(), iterations=int(mask_nii.shape[longest_axis]/8))\n",
    "\n",
    "# Now, we visualize the same using `plot_roi` with data being converted to Nifti\n",
    "# image. In all new image like, reference image is the same but second argument\n",
    "# varies with data specific\n",
    "dil_mask_nii = new_img_like(\n",
    "    mask_nii,\n",
    "    dil_mask.astype(np.int))\n",
    "plot_roi(dil_mask_nii, mean_nii)"
   ]
  },
  {
   "cell_type": "code",
   "execution_count": null,
   "metadata": {},
   "outputs": [],
   "source": [
    "dil_mask.shape"
   ]
  },
  {
   "cell_type": "code",
   "execution_count": null,
   "metadata": {},
   "outputs": [],
   "source": [
    "rep = list(mask_nii.shape)\n",
    "rep[longest_axis] = -1\n",
    "new_mask_2d = dil_mask.max(axis=longest_axis).reshape(rep)\n",
    "new_mask_2d.shape"
   ]
  },
  {
   "cell_type": "code",
   "execution_count": null,
   "metadata": {},
   "outputs": [],
   "source": [
    "rep = [1,1,1]\n",
    "rep[longest_axis] = mask_nii.shape[longest_axis]\n",
    "new_mask_3d = np.logical_not(np.tile(new_mask_2d, rep))\n",
    "#new_mask_3d = "
   ]
  },
  {
   "cell_type": "code",
   "execution_count": null,
   "metadata": {},
   "outputs": [],
   "source": [
    "new_mask_nii = new_img_like(\n",
    "    mask_nii,\n",
    "    new_mask_3d.astype(np.int))\n",
    "plot_roi(new_mask_nii, mean_nii)"
   ]
  },
  {
   "cell_type": "code",
   "execution_count": null,
   "metadata": {},
   "outputs": [],
   "source": [
    "from scipy.stats.mstats import zscore\n",
    "\n",
    "data4d = in_4d_nii.get_data()\n",
    "for slice_i in range(in_4d_nii.shape[2]):\n",
    "    slice_data = data4d[:,:,slice_i,:][new_mask_3d[:,:,slice_i]].mean(axis=0)\n",
    "    slice_data = zscore(slice_data)\n",
    "    plt.plot(slice_data)"
   ]
  },
  {
   "cell_type": "code",
   "execution_count": null,
   "metadata": {},
   "outputs": [],
   "source": [
    "data4d[:,:,slice_i,:][new_mask_3d[:,:,slice_i]].shape"
   ]
  },
  {
   "cell_type": "code",
   "execution_count": null,
   "metadata": {},
   "outputs": [],
   "source": [
    "data4d.shape"
   ]
  },
  {
   "cell_type": "code",
   "execution_count": null,
   "metadata": {
    "collapsed": true
   },
   "outputs": [],
   "source": [
    "compute_mask?"
   ]
  },
  {
   "cell_type": "code",
   "execution_count": null,
   "metadata": {},
   "outputs": [],
   "source": [
    "def plot_spikes(in_file, skip=0):\n",
    "    in_4d_nii = nibabel.load(in_file)\n",
    "    mean_nii = mean_img(in_4d_nii)\n",
    "    plot_anat(mean_nii)\n",
    "    mask_data = compute_mask(mean_nii.get_data())\n",
    "    mask_nii = new_img_like(mean_nii, mask_data)\n",
    "\n",
    "    plot_roi(mask_nii, mean_nii)\n",
    "    \n",
    "    a = np.where(mask_nii.get_data() != 0)\n",
    "    bbox = np.max(a[0]) - np.min(a[0]), np.max(a[1]) - np.min(a[1]), np.max(a[2]) - np.min(a[2])\n",
    "    print(bbox)\n",
    "    print(np.argmax(bbox))\n",
    "    longest_axis = np.argmax(bbox)\n",
    "    \n",
    "    from scipy import ndimage\n",
    "\n",
    "    # Input here is a binarized and intersected mask data from previous section\n",
    "    dil_mask = ndimage.binary_dilation(mask_nii.get_data(), iterations=int(mask_nii.shape[longest_axis]/8))\n",
    "\n",
    "    # Now, we visualize the same using `plot_roi` with data being converted to Nifti\n",
    "    # image. In all new image like, reference image is the same but second argument\n",
    "    # varies with data specific\n",
    "    dil_mask_nii = new_img_like(\n",
    "        mask_nii,\n",
    "        dil_mask.astype(np.int))\n",
    "    plot_roi(dil_mask_nii, mean_nii)\n",
    "    \n",
    "    rep = list(mask_nii.shape)\n",
    "    rep[longest_axis] = -1\n",
    "    new_mask_2d = dil_mask.max(axis=longest_axis).reshape(rep)\n",
    "    new_mask_2d.shape\n",
    "    \n",
    "    rep = [1,1,1]\n",
    "    rep[longest_axis] = mask_nii.shape[longest_axis]\n",
    "    new_mask_3d = np.logical_not(np.tile(new_mask_2d, rep))\n",
    "    \n",
    "    new_mask_nii = new_img_like(\n",
    "    mask_nii,\n",
    "    new_mask_3d.astype(np.int))\n",
    "    plot_roi(new_mask_nii, mean_nii)\n",
    "    \n",
    "    from scipy.stats.mstats import zscore\n",
    "\n",
    "    data4d = in_4d_nii.get_data()[:,:,:,skip:]\n",
    "    plt.figure()\n",
    "    for slice_i in range(in_4d_nii.shape[2]):\n",
    "        slice_data = data4d[:,:,slice_i,:][new_mask_3d[:,:,slice_i]].mean(axis=0)\n",
    "        #slice_data = zscore(slice_data)\n",
    "        plt.plot(slice_data)\n",
    "    plt.title(in_file)"
   ]
  },
  {
   "cell_type": "code",
   "execution_count": null,
   "metadata": {},
   "outputs": [],
   "source": [
    "plot_spikes(\"D:/example_artifacts_dataset/sub-ben01/func/sub-ben01_task-unknown_bold.nii.gz\")"
   ]
  },
  {
   "cell_type": "code",
   "execution_count": null,
   "metadata": {
    "collapsed": true
   },
   "outputs": [],
   "source": [
    "from glob import glob"
   ]
  },
  {
   "cell_type": "code",
   "execution_count": null,
   "metadata": {
    "scrolled": false
   },
   "outputs": [],
   "source": [
    "for file in glob(\"D:/*/sub-*/func/sub-*_task-*_bold.nii.gz\"):\n",
    "    plot_spikes(file)"
   ]
  },
  {
   "cell_type": "code",
   "execution_count": null,
   "metadata": {
    "collapsed": true
   },
   "outputs": [],
   "source": [
    "plot_anat?"
   ]
  },
  {
   "cell_type": "code",
   "execution_count": null,
   "metadata": {},
   "outputs": [],
   "source": [
    "glob(\"D:/*/sub-*/func/sub-*_task-*_bold.nii.gz\")"
   ]
  }
 ],
 "metadata": {
  "anaconda-cloud": {},
  "kernelspec": {
   "display_name": "Python 3 (ipykernel)",
   "language": "python",
   "name": "python3"
  },
  "language_info": {
   "codemirror_mode": {
    "name": "ipython",
    "version": 3
   },
   "file_extension": ".py",
   "mimetype": "text/x-python",
   "name": "python",
   "nbconvert_exporter": "python",
   "pygments_lexer": "ipython3",
   "version": "3.8.5"
  }
 },
 "nbformat": 4,
 "nbformat_minor": 1
}
